{
 "cells": [
  {
   "cell_type": "code",
   "execution_count": null,
   "metadata": {},
   "outputs": [],
   "source": [
    "from database import *\n",
    "import mysql\n",
    "from gdrive_helpers import reset_drive\n",
    "import streamlit as st"
   ]
  },
  {
   "cell_type": "code",
   "execution_count": null,
   "metadata": {},
   "outputs": [],
   "source": [
    "def reset_database():\n",
    "    cnx =  mysql.connector.connect(host=\"localhost\",\n",
    "                                user=st.secrets[\"mysql_user\"],\n",
    "                                password=st.secrets[\"mysql_password\"],\n",
    "                                database=st.secrets['mysql_dbName']\n",
    "                                )\n",
    "    tables = [\n",
    "        #\"users\",\n",
    "        \"history\",\n",
    "        \"filestorage\"]\n",
    "    with cnx.cursor() as cursor:\n",
    "\n",
    "        for table in tables:\n",
    "            cursor.execute(f\"DELETE FROM {table}\")\n",
    "            cnx.commit()"
   ]
  },
  {
   "cell_type": "code",
   "execution_count": null,
   "metadata": {},
   "outputs": [],
   "source": [
    "reset_database()\n",
    "reset_drive()"
   ]
  }
 ],
 "metadata": {
  "kernelspec": {
   "display_name": "slidechatter",
   "language": "python",
   "name": "python3"
  },
  "language_info": {
   "codemirror_mode": {
    "name": "ipython",
    "version": 3
   },
   "file_extension": ".py",
   "mimetype": "text/x-python",
   "name": "python",
   "nbconvert_exporter": "python",
   "pygments_lexer": "ipython3",
   "version": "3.11.4"
  }
 },
 "nbformat": 4,
 "nbformat_minor": 2
}
