{
 "cells": [
  {
   "cell_type": "code",
   "execution_count": 1,
   "metadata": {},
   "outputs": [
    {
     "name": "stdout",
     "output_type": "stream",
     "text": [
      "[('information_schema',), ('mysql',), ('performance_schema',), ('slidechatter',), ('sys',)]\n",
      "['information_schema', 'mysql', 'performance_schema', 'slidechatter', 'sys']\n"
     ]
    }
   ],
   "source": [
    "from database import *\n",
    "import mysql\n",
    "from gdrive_helpers import reset_drive\n",
    "import streamlit as st"
   ]
  },
  {
   "cell_type": "code",
   "execution_count": 2,
   "metadata": {},
   "outputs": [],
   "source": [
    "db = Database(st.secrets[\"mysql_dbName\"])"
   ]
  },
  {
   "cell_type": "code",
   "execution_count": 3,
   "metadata": {},
   "outputs": [],
   "source": [
    "def reset_database():\n",
    "    cnx =  mysql.connector.connect(host=\"localhost\",\n",
    "                                user=st.secrets[\"mysql_user\"],\n",
    "                                password=st.secrets[\"mysql_password\"],\n",
    "                                database=st.secrets['mysql_dbName']\n",
    "                                )\n",
    "    tables = [\n",
    "        #\"users\",\n",
    "        \"history\",\n",
    "        \"filestorage\"]\n",
    "    with cnx.cursor() as cursor:\n",
    "\n",
    "        for table in tables:\n",
    "            cursor.execute(f\"DELETE FROM {table}\")\n",
    "            cnx.commit()"
   ]
  },
  {
   "cell_type": "code",
   "execution_count": 4,
   "metadata": {},
   "outputs": [],
   "source": [
    "# reset_database()\n",
    "# reset_drive()"
   ]
  },
  {
   "cell_type": "code",
   "execution_count": 5,
   "metadata": {},
   "outputs": [],
   "source": [
    "db = Database(st.secrets[\"mysql_dbName\"])"
   ]
  },
  {
   "cell_type": "code",
   "execution_count": 6,
   "metadata": {},
   "outputs": [
    {
     "data": {
      "text/plain": [
       "[(16,\n",
       "  'lwo',\n",
       "  'Visualization',\n",
       "  '1AVKy486gH8oKuggPeqINEw-AzFqSggqf',\n",
       "  '10q-IxMpjhvSBzzXMQA6MmAOoqZDekNpB',\n",
       "  '1GxR4JXsiUXfp8anDA_GV5vJVxU5VBhPR'),\n",
       " (17,\n",
       "  'lwo',\n",
       "  'API',\n",
       "  '1LcbqbvhV_chX3Gz-tnyC7HDoD90Uj7DC',\n",
       "  '18F_BWXew0BnEP3bQBR2FMDR1PQ_c-1aS',\n",
       "  '1jjSGrdGI6cI2LqE0F0YOwVk3hDIqwCzt')]"
      ]
     },
     "execution_count": 6,
     "metadata": {},
     "output_type": "execute_result"
    }
   ],
   "source": [
    "db.query(\"SELECT * FROM filestorage\")"
   ]
  }
 ],
 "metadata": {
  "kernelspec": {
   "display_name": "slidechatter",
   "language": "python",
   "name": "python3"
  },
  "language_info": {
   "codemirror_mode": {
    "name": "ipython",
    "version": 3
   },
   "file_extension": ".py",
   "mimetype": "text/x-python",
   "name": "python",
   "nbconvert_exporter": "python",
   "pygments_lexer": "ipython3",
   "version": "3.11.4"
  }
 },
 "nbformat": 4,
 "nbformat_minor": 2
}
