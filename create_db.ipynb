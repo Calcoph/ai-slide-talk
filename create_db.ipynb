{
 "cells": [
  {
   "cell_type": "code",
   "execution_count": 1,
   "metadata": {},
   "outputs": [],
   "source": [
    "from datababe import *\n",
    "import mysql\n",
    "from gdrive_helpers import reset_drive"
   ]
  },
  {
   "cell_type": "code",
   "execution_count": 2,
   "metadata": {},
   "outputs": [],
   "source": [
    "db = Database(st.secrets[\"mysql_dbName\"])"
   ]
  },
  {
   "cell_type": "code",
   "execution_count": 3,
   "metadata": {},
   "outputs": [],
   "source": [
    "def create_database():\n",
    "    cnx =  mysql.connector.connect(host=\"localhost\",\n",
    "                                    user=st.secrets[\"mysql_user\"],\n",
    "                                password=st.secrets[\"mysql_password\"],\n",
    "                                database=\"\")\n",
    "    create_db_query = f\"CREATE DATABASE {st.secrets['mysql_dbName']}\"\n",
    "    with cnx.cursor() as cursor:\n",
    "        try:\n",
    "            cursor.execute(create_db_query)\n",
    "        except:\n",
    "            pass\n",
    "    create_users_table_query = \"\"\"CREATE TABLE IF NOT EXISTS users (\n",
    "    id INT AUTO_INCREMENT PRIMARY KEY,\n",
    "    email VARCHAR(255) NOT NULL,\n",
    "    username VARCHAR(255) NOT NULL,\n",
    "    password VARCHAR(255) NOT NULL,\n",
    "    openai_api_key VARCHAR(255) NOT NULL\n",
    "    )\n",
    "    \"\"\"\n",
    "# Create the 'history' table\n",
    "    create_history_table_query = \"\"\"\n",
    "    CREATE TABLE IF NOT EXISTS history (\n",
    "        id INT AUTO_INCREMENT PRIMARY KEY,\n",
    "        prompt TEXT NOT NULL,\n",
    "        message TEXT NOT NULL,\n",
    "        username VARCHAR(255) NOT NULL,\n",
    "        lecture VARCHAR(255),\n",
    "        language VARCHAR(255)\n",
    "    )\n",
    "    \"\"\"\n",
    "\n",
    "    create_filestorage_table_query = \"\"\"\n",
    "    CREATE TABLE IF NOT EXISTS filestorage (\n",
    "        id INT AUTO_INCREMENT PRIMARY KEY,\n",
    "        username VARCHAR(255) NOT NULL,\n",
    "        lecture VARCHAR(255) NOT NULL,\n",
    "        pdf_id VARCHAR(255) NOT NULL,\n",
    "        index_faiss_id VARCHAR(255) NOT NULL,\n",
    "        index_pkl_id VARCHAR(255) NOT NULL\n",
    "    )\n",
    "    \"\"\"\n",
    "    mydb = Database(st.secrets[\"mysql_dbName\"])\n",
    "    mydb.query(create_history_table_query)\n",
    "    mydb.query(create_users_table_query)\n",
    "    mydb.query(create_filestorage_table_query)"
   ]
  },
  {
   "cell_type": "code",
   "execution_count": 4,
   "metadata": {},
   "outputs": [],
   "source": [
    "def reset_database():\n",
    "    cnx =  mysql.connector.connect(host=\"localhost\",\n",
    "                                user=st.secrets[\"mysql_user\"],\n",
    "                                password=st.secrets[\"mysql_password\"],\n",
    "                                database=st.secrets['mysql_dbName'])\n",
    "    tables = [\n",
    "        #\"users\",\n",
    "        \"history\",\n",
    "        \"filestorage\"]\n",
    "    with cnx.cursor() as cursor:\n",
    "\n",
    "        for table in tables:\n",
    "            cursor.execute(f\"DELETE FROM {table}\")\n",
    "            cnx.commit()"
   ]
  },
  {
   "cell_type": "code",
   "execution_count": 5,
   "metadata": {},
   "outputs": [],
   "source": [
    "# reset_database()\n",
    "# reset_drive()"
   ]
  }
 ],
 "metadata": {
  "kernelspec": {
   "display_name": "slidechatter",
   "language": "python",
   "name": "python3"
  },
  "language_info": {
   "codemirror_mode": {
    "name": "ipython",
    "version": 3
   },
   "file_extension": ".py",
   "mimetype": "text/x-python",
   "name": "python",
   "nbconvert_exporter": "python",
   "pygments_lexer": "ipython3",
   "version": "3.11.4"
  }
 },
 "nbformat": 4,
 "nbformat_minor": 2
}
