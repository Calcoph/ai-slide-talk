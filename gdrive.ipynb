{
 "cells": [
  {
   "cell_type": "code",
   "execution_count": 49,
   "metadata": {},
   "outputs": [],
   "source": [
    "from gdrive_helpers import *\n",
    "from tqdm import tqdm"
   ]
  },
  {
   "cell_type": "code",
   "execution_count": 50,
   "metadata": {},
   "outputs": [],
   "source": [
    "def reset_drive():\n",
    "    drive = setup_pydrive()\n",
    "    file_list = drive.ListFile({'q': \"trashed=false\"}).GetList()\n",
    "    for file in tqdm(file_list):\n",
    "        file1 = drive.CreateFile({'id': file[\"id\"]})\n",
    "        file1.Delete()"
   ]
  },
  {
   "cell_type": "code",
   "execution_count": 56,
   "metadata": {},
   "outputs": [
    {
     "name": "stderr",
     "output_type": "stream",
     "text": [
      "100%|██████████| 4/4 [00:04<00:00,  1.04s/it]\n"
     ]
    }
   ],
   "source": [
    "reset_drive()"
   ]
  },
  {
   "cell_type": "code",
   "execution_count": 52,
   "metadata": {},
   "outputs": [
    {
     "data": {
      "text/plain": [
       "'1eLSlbvNc7kDuaccRfLrp1CEbBX7ofqdB'"
      ]
     },
     "execution_count": 52,
     "metadata": {},
     "output_type": "execute_result"
    }
   ],
   "source": [
    "folder_id_root = create_folder(\"lwo\")[0]\n",
    "folder_id = create_folder(\"API\",folder_id_root)[0]\n",
    "folder_id"
   ]
  },
  {
   "cell_type": "code",
   "execution_count": 44,
   "metadata": {},
   "outputs": [
    {
     "data": {
      "text/plain": [
       "[GoogleDriveFile({'kind': 'drive#file', 'userPermission': {'id': 'me', 'type': 'user', 'role': 'owner', 'kind': 'drive#permission', 'selfLink': 'https://www.googleapis.com/drive/v2/files/1zoedFpIBg7qqwo9SB2iV38m3wn1X1z5-/permissions/me', 'etag': '\"Ca05g08uk1tqgid3TpX05gx4IRI\"', 'pendingOwner': False}, 'selfLink': 'https://www.googleapis.com/drive/v2/files/1zoedFpIBg7qqwo9SB2iV38m3wn1X1z5-', 'ownerNames': ['slidechatter-467@synthetic-song-404407.iam.gserviceaccount.com'], 'lastModifyingUserName': 'slidechatter-467@synthetic-song-404407.iam.gserviceaccount.com', 'editable': True, 'writersCanShare': True, 'mimeType': 'application/vnd.google-apps.folder', 'parents': [{'selfLink': 'https://www.googleapis.com/drive/v2/files/1zoedFpIBg7qqwo9SB2iV38m3wn1X1z5-/parents/1Kn871AnssMW8ZnvuIgowBh1R8P1exRSg', 'id': '1Kn871AnssMW8ZnvuIgowBh1R8P1exRSg', 'isRoot': False, 'kind': 'drive#parentReference', 'parentLink': 'https://www.googleapis.com/drive/v2/files/1Kn871AnssMW8ZnvuIgowBh1R8P1exRSg'}], 'appDataContents': False, 'iconLink': 'https://drive-thirdparty.googleusercontent.com/16/type/application/vnd.google-apps.folder+shared', 'shared': True, 'lastModifyingUser': {'displayName': 'slidechatter-467@synthetic-song-404407.iam.gserviceaccount.com', 'kind': 'drive#user', 'isAuthenticatedUser': True, 'permissionId': '07718444738033261622', 'emailAddress': 'slidechatter-467@synthetic-song-404407.iam.gserviceaccount.com', 'picture': {'url': 'https://lh3.googleusercontent.com/a/default-user=s64'}}, 'owners': [{'displayName': 'slidechatter-467@synthetic-song-404407.iam.gserviceaccount.com', 'kind': 'drive#user', 'isAuthenticatedUser': True, 'permissionId': '07718444738033261622', 'emailAddress': 'slidechatter-467@synthetic-song-404407.iam.gserviceaccount.com', 'picture': {'url': 'https://lh3.googleusercontent.com/a/default-user=s64'}}], 'copyable': False, 'etag': '\"MTY5OTM1NzQ5ODQ0Mg\"', 'alternateLink': 'https://drive.google.com/drive/folders/1zoedFpIBg7qqwo9SB2iV38m3wn1X1z5-', 'embedLink': 'https://drive.google.com/embeddedfolderview?id=1zoedFpIBg7qqwo9SB2iV38m3wn1X1z5-', 'copyRequiresWriterPermission': False, 'spaces': ['drive'], 'id': '1zoedFpIBg7qqwo9SB2iV38m3wn1X1z5-', 'title': 'API', 'labels': {'viewed': True, 'restricted': False, 'starred': False, 'hidden': False, 'trashed': False}, 'explicitlyTrashed': False, 'createdDate': '2023-11-07T11:44:56.744Z', 'modifiedDate': '2023-11-07T11:44:58.442Z', 'modifiedByMeDate': '2023-11-07T11:44:58.442Z', 'lastViewedByMeDate': '2023-11-07T11:44:56.744Z', 'markedViewedByMeDate': '1970-01-01T00:00:00.000Z', 'quotaBytesUsed': '0', 'version': '2', 'capabilities': {'canEdit': True, 'canCopy': False}})]"
      ]
     },
     "execution_count": 44,
     "metadata": {},
     "output_type": "execute_result"
    }
   ],
   "source": [
    "drive = setup_pydrive()\n",
    "files = drive.ListFile({'q': f\"'{folder_id_root}' in parents\"}).GetList()\n",
    "files"
   ]
  }
 ],
 "metadata": {
  "kernelspec": {
   "display_name": "slidechatter",
   "language": "python",
   "name": "python3"
  },
  "language_info": {
   "codemirror_mode": {
    "name": "ipython",
    "version": 3
   },
   "file_extension": ".py",
   "mimetype": "text/x-python",
   "name": "python",
   "nbconvert_exporter": "python",
   "pygments_lexer": "ipython3",
   "version": "3.11.4"
  }
 },
 "nbformat": 4,
 "nbformat_minor": 2
}
